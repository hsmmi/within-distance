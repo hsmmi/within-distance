{
 "cells": [
  {
   "cell_type": "markdown",
   "metadata": {},
   "source": [
    "# <center>Project 4 on Mathematics in AI</center>\n",
    "\n",
    "Subject: Within Distance\n",
    "\n",
    "Name: Hesam Mousavi\n",
    "\n",
    "Student number: 9931155\n",
    "\n",
    "<script type=\"text/x-mathjax-config\">\n",
    "MathJax.Hub.Config({\n",
    "tex2jax: {\n",
    "inlineMath: [['$','$'], ['\\\\(','\\\\)']],\n",
    "processEscapes: true},\n",
    "jax: [\"input/TeX\",\"input/MathML\",\"input/AsciiMath\",\"output/CommonHTML\"],\n",
    "extensions: [\"tex2jax.js\",\"mml2jax.js\",\"asciimath2jax.js\",\"MathMenu.js\",\"MathZoom.js\",\"AssistiveMML.js\", \"[Contrib]/a11y/accessibility-menu.js\"],\n",
    "TeX: {\n",
    "extensions: [\"AMSmath.js\",\"AMSsymbols.js\",\"noErrors.js\",\"noUndefined.js\"],\n",
    "equationNumbers: {\n",
    "autoNumber: \"AMS\"\n",
    "}\n",
    "}\n",
    "});\n",
    "</script>"
   ]
  },
  {
   "cell_type": "markdown",
   "metadata": {},
   "source": [
    "### How I store the dataset\n",
    "\n",
    "I created a module called 'Dataset' which contains everything about our dataset (sample, label, number of sample, number of feature, and representor)"
   ]
  },
  {
   "cell_type": "code",
   "execution_count": 1,
   "metadata": {},
   "outputs": [],
   "source": [
    "from copy import deepcopy\n",
    "import numpy as np\n",
    "from dataset import Dataset\n",
    "\n",
    "dataset = Dataset('dataset/iris.csv')\n",
    "\n",
    "norm_set = np.array((\n",
    "    [1, 2],\n",
    "    [1, np.inf],\n",
    "    [2, 0],\n",
    "    [2, 1],\n",
    "    [2, np.inf],\n",
    "    [np.inf, 0],\n",
    "    [np.inf, 1],\n",
    "    [np.inf, 2]\n",
    "))"
   ]
  },
  {
   "cell_type": "markdown",
   "metadata": {},
   "source": [
    "### Find $e^{d, d^{\\prime}}(X, c)$"
   ]
  },
  {
   "cell_type": "code",
   "execution_count": 3,
   "metadata": {},
   "outputs": [],
   "source": [
    "def find_err(dataset: Dataset, d_norm: int, dp_norm: int):\n",
    "    err_from_rep = [\n",
    "        np.linalg.norm(sample - dataset.representor, d_norm)\n",
    "        for sample in dataset.sample]\n",
    "    return np.linalg.norm(err_from_rep, dp_norm)"
   ]
  },
  {
   "cell_type": "markdown",
   "metadata": {},
   "source": [
    "## Fisrt idea\n",
    "\n",
    "As a first step, let's use an alternate search to get a good approximation of the representative on our dataset with our set of norms\n",
    "$$\n",
    "\\begin{array}{|c|c|}\n",
    "\\hline d & d^{\\prime} \\\\\n",
    "\\hline 1 & 2 \\\\\n",
    "\\hline 1 & \\infty \\\\\n",
    "\\hline 2 & 0 \\\\\n",
    "\\hline 2 & 1 \\\\\n",
    "\\hline 2 & \\infty \\\\\n",
    "\\hline \\infty & 0 \\\\\n",
    "\\hline \\infty & 1 \\\\\n",
    "\\hline \\infty & 2 \\\\\n",
    "\\hline\n",
    "\\end{array}\n",
    "$$\n",
    "\n",
    "For that, I use step-decay, which after a few steps without any improvement, it will half the step size. And I'll return the best representative that we've seen if the step size is smaller than epsilon"
   ]
  },
  {
   "cell_type": "code",
   "execution_count": 2,
   "metadata": {},
   "outputs": [
    {
     "name": "stdout",
     "output_type": "stream",
     "text": [
      "for d, d' = 1.0, 2.0 error is 43.433\n",
      "with representor [5.7   3.1   3.913 1.194]\n",
      "\n",
      "for d, d' = 1.0, inf error is 6.05\n",
      "with representor [5.9  3.05 3.85 1.55]\n",
      "\n",
      "for d, d' = 2.0, 0.0 error is 149.0\n",
      "with representor [6.1 2.8 5.7 1.2]\n",
      "\n",
      "for d, d' = 2.0, 1.0 error is 279.845\n",
      "with representor [5.917 2.917 4.181 1.358]\n",
      "\n",
      "for d, d' = 2.0, inf error is 3.771\n",
      "with representor [7.053 3.1   3.239 1.914]\n",
      "\n",
      "for d, d' = inf, 0.0 error is 149.0\n",
      "with representor [4.5 2.3 1.3 1.3]\n",
      "\n",
      "for d, d' = inf, 1.0 error is 227.837\n",
      "with representor [5.917 2.783 4.183 1.325]\n",
      "\n",
      "for d, d' = inf, 2.0 error is 21.283\n",
      "with representor [5.844 2.683 3.783 1.256]\n",
      "\n"
     ]
    }
   ],
   "source": [
    "def find_rep_with_AS(dataset: Dataset, d_norm: int, dp_norm: int):\n",
    "    best_err, best_rep = np.inf, None\n",
    "    step_size, no_improve = 1, 0\n",
    "    eps, no_improve_threshold = 1e-04, dataset.number_of_feature ** 3\n",
    "    random_sample = np.random.randint(0, dataset.number_of_sample)\n",
    "    dataset.representor = dataset.sample[random_sample]\n",
    "\n",
    "    while(step_size > eps):\n",
    "        random_feature = np.random.randint(0, dataset.number_of_feature)\n",
    "        dataset.representor[random_feature] += step_size\n",
    "        this_err = find_err(dataset, d_norm, dp_norm)\n",
    "\n",
    "        if(this_err < best_err):\n",
    "            best_err = this_err\n",
    "            no_improve = 0\n",
    "            best_rep = deepcopy(dataset.representor)\n",
    "            continue\n",
    "        dataset.representor[random_feature] -= step_size\n",
    "\n",
    "        dataset.representor[random_feature] -= step_size\n",
    "        this_err = find_err(dataset, d_norm, dp_norm)\n",
    "        if(this_err < best_err):\n",
    "            best_err = this_err\n",
    "            no_improve = 0\n",
    "            best_rep = deepcopy(dataset.representor)\n",
    "            continue\n",
    "        dataset.representor[random_feature] += step_size\n",
    "\n",
    "        no_improve += 1\n",
    "        if(no_improve > no_improve_threshold):\n",
    "            step_size /= 2\n",
    "\n",
    "    dataset.representor = best_rep\n",
    "    return best_err\n",
    "\n",
    "\n",
    "for d_norm, dp_norm in norm_set:\n",
    "    print(f'for d, d\\' = {d_norm}, {dp_norm} error is',\n",
    "          np.round(find_rep_with_AS(dataset, d_norm, dp_norm), 3))\n",
    "    print(f'with representor {np.round(dataset.representor, 3)}\\n')\n"
   ]
  }
 ],
 "metadata": {
  "interpreter": {
   "hash": "aee8b7b246df8f9039afb4144a1f6fd8d2ca17a180786b69acc140d282b71a49"
  },
  "kernelspec": {
   "display_name": "Python 3.10.0 64-bit",
   "language": "python",
   "name": "python3"
  },
  "language_info": {
   "codemirror_mode": {
    "name": "ipython",
    "version": 3
   },
   "file_extension": ".py",
   "mimetype": "text/x-python",
   "name": "python",
   "nbconvert_exporter": "python",
   "pygments_lexer": "ipython3",
   "version": "3.10.0"
  },
  "orig_nbformat": 4
 },
 "nbformat": 4,
 "nbformat_minor": 2
}
