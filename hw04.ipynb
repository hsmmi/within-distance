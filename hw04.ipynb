{
 "cells": [
  {
   "cell_type": "markdown",
   "metadata": {},
   "source": [
    "# <center>Project 4 on Mathematics in AI</center>\n",
    "\n",
    "Subject: Within Distance\n",
    "\n",
    "Name: Hesam Mousavi\n",
    "\n",
    "Student number: 9931155\n",
    "\n",
    "<script type=\"text/x-mathjax-config\">\n",
    "MathJax.Hub.Config({\n",
    "tex2jax: {\n",
    "inlineMath: [['$','$'], ['\\\\(','\\\\)']],\n",
    "processEscapes: true},\n",
    "jax: [\"input/TeX\",\"input/MathML\",\"input/AsciiMath\",\"output/CommonHTML\"],\n",
    "extensions: [\"tex2jax.js\",\"mml2jax.js\",\"asciimath2jax.js\",\"MathMenu.js\",\"MathZoom.js\",\"AssistiveMML.js\", \"[Contrib]/a11y/accessibility-menu.js\"],\n",
    "TeX: {\n",
    "extensions: [\"AMSmath.js\",\"AMSsymbols.js\",\"noErrors.js\",\"noUndefined.js\"],\n",
    "equationNumbers: {\n",
    "autoNumber: \"AMS\"\n",
    "}\n",
    "}\n",
    "});\n",
    "</script>"
   ]
  },
  {
   "cell_type": "markdown",
   "metadata": {},
   "source": [
    "### How I store the dataset\n",
    "\n",
    "I created a module called 'Dataset' which contains everything about our dataset (sample, label, number of sample, number of feature, and representor)"
   ]
  },
  {
   "cell_type": "code",
   "execution_count": 1,
   "metadata": {},
   "outputs": [],
   "source": [
    "from copy import deepcopy\n",
    "import numpy as np\n",
    "from dataset import Dataset\n",
    "import numpy_indexed as npi\n",
    "\n",
    "dataset = Dataset('dataset/iris.data')\n",
    "\n",
    "norm_set = np.array((\n",
    "    [2, 0],\n",
    "    [np.inf, 0],\n",
    "    [2, 1],\n",
    "    [np.inf, 1],\n",
    "    [1, 2],\n",
    "    [np.inf, 2],\n",
    "    [1, np.inf],\n",
    "    [2, np.inf]\n",
    "))"
   ]
  },
  {
   "cell_type": "markdown",
   "metadata": {},
   "source": [
    "### Find $e^{d, d^{\\prime}}(X, c)$"
   ]
  },
  {
   "cell_type": "code",
   "execution_count": 2,
   "metadata": {},
   "outputs": [],
   "source": [
    "def find_err(dataset: Dataset, d_norm: int, dp_norm: int):\n",
    "    err_from_rep = [\n",
    "        np.linalg.norm(sample - dataset.representor, d_norm)\n",
    "        for sample in dataset.sample]\n",
    "    return np.linalg.norm(err_from_rep, dp_norm)"
   ]
  },
  {
   "cell_type": "markdown",
   "metadata": {},
   "source": [
    "## Fisrt idea\n",
    "\n",
    "As a first step, let's use an alternate search to get a good approximation of the representative on our dataset with our set of norms\n",
    "$$\n",
    "\\begin{array}{|c|c|}\n",
    "\\hline d & d^{\\prime} \\\\\n",
    "\\hline 2 & 0 \\\\\n",
    "\\hline \\infty & 0 \\\\\n",
    "\\hline 2 & 1 \\\\\n",
    "\\hline \\infty & 1 \\\\\n",
    "\\hline 1 & 2 \\\\\n",
    "\\hline \\infty & 2 \\\\\n",
    "\\hline 1 & \\infty \\\\\n",
    "\\hline 2 & \\infty \\\\\n",
    "\\hline\n",
    "\\end{array}\n",
    "$$\n",
    "\n",
    "For that, I use step-decay, which after a few steps without any improvement, it will half the step size. And I'll return the best representative that we've seen if the step size is smaller than epsilon"
   ]
  },
  {
   "cell_type": "code",
   "execution_count": 3,
   "metadata": {},
   "outputs": [
    {
     "name": "stdout",
     "output_type": "stream",
     "text": [
      "for d = 2.0, d' = 0.0 error is 149.0\n",
      "with representor [6.2 2.8 4.8 1.8]\n",
      "\n",
      "for d = inf, d' = 0.0 error is 149.0\n",
      "with representor [6.4 2.9 4.3 1.3]\n",
      "\n",
      "for d = 2.0, d' = 1.0 error is 282.34\n",
      "with representor [5.944 2.914 4.224 1.367]\n",
      "\n",
      "for d = inf, d' = 1.0 error is 229.426\n",
      "with representor [5.938 2.812 4.238 1.388]\n",
      "\n",
      "for d = 1.0, d' = 2.0 error is 42.939\n",
      "with representor [5.7   3.1   4.    1.191]\n",
      "\n",
      "for d = inf, d' = 2.0 error is 21.323\n",
      "with representor [5.758 2.658 3.758 1.175]\n",
      "\n",
      "for d = 1.0, d' = inf error is 6.05\n",
      "with representor [5.683 3.05  4.513 1.104]\n",
      "\n",
      "for d = 2.0, d' = inf error is 3.586\n",
      "with representor [6.4   2.946 3.7   1.4  ]\n",
      "\n"
     ]
    }
   ],
   "source": [
    "def find_rep_with_AS(dataset: Dataset, d_norm: int, dp_norm: int):\n",
    "    step_size, no_improve = 1, 0\n",
    "    eps, no_improve_threshold = 1e-04, dataset.number_of_feature ** 3\n",
    "    random_sample = np.random.randint(0, dataset.number_of_sample)\n",
    "    dataset.representor = dataset.sample[random_sample]\n",
    "    best_err, best_rep = \\\n",
    "        find_err(dataset, d_norm, dp_norm), dataset.representor\n",
    "\n",
    "    while(step_size > eps):\n",
    "        random_feature = np.random.randint(0, dataset.number_of_feature)\n",
    "        dataset.representor[random_feature] += step_size\n",
    "        this_err = find_err(dataset, d_norm, dp_norm)\n",
    "\n",
    "        if(this_err < best_err):\n",
    "            best_err = this_err\n",
    "            no_improve = 0\n",
    "            best_rep = deepcopy(dataset.representor)\n",
    "            continue\n",
    "        dataset.representor[random_feature] -= step_size\n",
    "\n",
    "        dataset.representor[random_feature] -= step_size\n",
    "        this_err = find_err(dataset, d_norm, dp_norm)\n",
    "        if(this_err < best_err):\n",
    "            best_err = this_err\n",
    "            no_improve = 0\n",
    "            best_rep = deepcopy(dataset.representor)\n",
    "            continue\n",
    "        dataset.representor[random_feature] += step_size\n",
    "\n",
    "        no_improve += 1\n",
    "        if(no_improve > no_improve_threshold):\n",
    "            step_size /= 2\n",
    "\n",
    "    dataset.representor = best_rep\n",
    "    return best_err\n",
    "\n",
    "\n",
    "for d_norm, dp_norm in norm_set:\n",
    "    print(f'for d = {d_norm}, d\\' = {dp_norm} error is',\n",
    "          np.round(find_rep_with_AS(dataset, d_norm, dp_norm), 3))\n",
    "    print(f'with representor {np.round(dataset.representor, 3)}\\n')\n"
   ]
  },
  {
   "cell_type": "markdown",
   "metadata": {},
   "source": [
    "## Second idea\n",
    "\n",
    "Separately solve for each $d^{\\prime}$, then optimize around that point with alternate search\n",
    "\n",
    "When $d^{\\prime} = 0$, we want to find a representor that maximizes the errors that are zero, so we should choose the most frequent point\n",
    "\n",
    "When $d^{\\prime} = 1$, we want to find a representor that minimize the sum absolute of errors, so we should choose the median of points\n",
    "\n",
    "When $d^{\\prime} = 2$, we want to find a representor that minimize the sum square of the errors, so we should choose the mean of points\n",
    "\n",
    "When $d^{\\prime} = \\infty$, we want to minimize the maximum distance from the representor, so we should choose the middle of our points"
   ]
  },
  {
   "cell_type": "code",
   "execution_count": 4,
   "metadata": {},
   "outputs": [
    {
     "name": "stdout",
     "output_type": "stream",
     "text": [
      "for d = 2.0, d' = 0.0 error is 147.0\n",
      "with representor [4.9 3.1 1.5 0.1]\n",
      "\n",
      "for d = inf, d' = 0.0 error is 147.0\n",
      "with representor [4.9 3.1 1.5 0.1]\n",
      "\n",
      "for d = 2.0, d' = 1.0 error is 272.292\n",
      "with representor [5.941 2.908 4.222 1.363]\n",
      "\n",
      "for d = inf, d' = 1.0 error is 223.216\n",
      "with representor [5.904 2.804 4.204 1.394]\n",
      "\n",
      "for d = 1.0, d' = 2.0 error is 42.55\n",
      "with representor [5.7  3.1  4.   1.18]\n",
      "\n",
      "for d = inf, d' = 2.0 error is 21.157\n",
      "with representor [5.791 2.665 3.765 1.207]\n",
      "\n",
      "for d = 1.0, d' = inf error is 6.05\n",
      "with representor [6.106 3.075 3.919 1.3  ]\n",
      "\n",
      "for d = 2.0, d' = inf error is 3.55\n",
      "with representor [5.975 2.907 3.95  1.39 ]\n",
      "\n"
     ]
    }
   ],
   "source": [
    "def find_rep_and_improve(dataset: Dataset, d_norm: int, dp_norm: int):\n",
    "    step_size, no_improve = 1, 0\n",
    "    eps, no_improve_threshold = 1e-04, dataset.number_of_feature ** 3\n",
    "\n",
    "    if(dp_norm == 0):\n",
    "        dataset.representor = npi.mode(dataset.sample)\n",
    "    elif(dp_norm == 1):\n",
    "        dataset.representor = np.median(dataset.sample, axis=0)\n",
    "    elif(dp_norm == 2):\n",
    "        dataset.representor = np.mean(dataset.sample, axis=0)\n",
    "    elif(dp_norm == np.inf):\n",
    "        dataset.representor = (\n",
    "            (np.max(dataset.sample, axis=0) - np.min(dataset.sample, axis=0))/2\n",
    "            + np.min(dataset.sample, axis=0))\n",
    "    best_err, best_rep = \\\n",
    "        find_err(dataset, d_norm, dp_norm), dataset.representor\n",
    "\n",
    "    while(step_size > eps):\n",
    "        random_feature = np.random.randint(0, dataset.number_of_feature)\n",
    "\n",
    "        dataset.representor[random_feature] += step_size\n",
    "        this_err = find_err(dataset, d_norm, dp_norm)\n",
    "        if(this_err < best_err):\n",
    "            best_err = this_err\n",
    "            no_improve = 0\n",
    "            best_rep = deepcopy(dataset.representor)\n",
    "            continue\n",
    "        dataset.representor[random_feature] -= step_size\n",
    "\n",
    "        dataset.representor[random_feature] -= step_size\n",
    "        this_err = find_err(dataset, d_norm, dp_norm)\n",
    "        if(this_err < best_err):\n",
    "            best_err = this_err\n",
    "            no_improve = 0\n",
    "            best_rep = deepcopy(dataset.representor)\n",
    "            continue\n",
    "        dataset.representor[random_feature] += step_size\n",
    "\n",
    "        no_improve += 1\n",
    "        if(no_improve > no_improve_threshold):\n",
    "            step_size /= 2\n",
    "\n",
    "    dataset.representor = best_rep\n",
    "    return best_err\n",
    "\n",
    "\n",
    "for d_norm, dp_norm in norm_set:\n",
    "    print(f'for d = {d_norm}, d\\' = {dp_norm} error is',\n",
    "          np.round(find_rep_and_improve(dataset, d_norm, dp_norm), 3))\n",
    "    print(f'with representor {np.round(dataset.representor, 3)}\\n')\n"
   ]
  },
  {
   "cell_type": "markdown",
   "metadata": {},
   "source": [
    "# <center>Thank you very much for taking the time to read this</center>\n"
   ]
  }
 ],
 "metadata": {
  "interpreter": {
   "hash": "aee8b7b246df8f9039afb4144a1f6fd8d2ca17a180786b69acc140d282b71a49"
  },
  "kernelspec": {
   "display_name": "Python 3.10.0 64-bit",
   "language": "python",
   "name": "python3"
  },
  "language_info": {
   "codemirror_mode": {
    "name": "ipython",
    "version": 3
   },
   "file_extension": ".py",
   "mimetype": "text/x-python",
   "name": "python",
   "nbconvert_exporter": "python",
   "pygments_lexer": "ipython3",
   "version": "3.10.0"
  },
  "orig_nbformat": 4
 },
 "nbformat": 4,
 "nbformat_minor": 2
}
